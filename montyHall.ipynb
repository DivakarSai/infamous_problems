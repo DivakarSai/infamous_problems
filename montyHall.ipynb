{
 "cells": [
  {
   "cell_type": "code",
   "execution_count": 25,
   "metadata": {},
   "outputs": [],
   "source": [
    "import random\n",
    "import numpy as np"
   ]
  },
  {
   "cell_type": "code",
   "execution_count": 26,
   "metadata": {},
   "outputs": [],
   "source": [
    "def game():\n",
    "\n",
    "\n",
    "    remaining_doors = np.array([0,1,2])\n",
    "    #deciding the door number in which prize is there\n",
    "    prize_id = random.randint(0,2)\n",
    "    #let's ask the guy his choice\n",
    "    #here we assume it is a random choice\n",
    "    choice = random.randint(0,2) \n",
    "    #now the host needs to open the a door from those he did not pick\n",
    "    # this should also not contain the prize\n",
    "    open =4\n",
    "\n",
    "    # if choice does not contain the prize he is only left with one door to pick\n",
    "    if(choice!=prize_id):\n",
    "        open = 3-choice-prize_id\n",
    "    # else if your choice is correct he can randomly pick one of the two remaining doors\n",
    "    else :\n",
    "        door_numbers = np.array([0,1,2])\n",
    "        np.delete(door_numbers,prize_id)\n",
    "        open = np.random.choice(a=door_numbers,size=1)\n",
    "    #now lets see how many times switch wins vs how many times remaining wins\n",
    "    np.delete(remaining_doors,open)\n",
    "    #now if the prize lies in the choice stay wins return 1\n",
    "    # else switch wins return 0\n",
    "\n",
    "    return (choice==prize_id)\n",
    "        \n",
    "    \n",
    "\n",
    "\n",
    "\n",
    "\n",
    "\n"
   ]
  },
  {
   "cell_type": "code",
   "execution_count": 30,
   "metadata": {},
   "outputs": [
    {
     "name": "stdout",
     "output_type": "stream",
     "text": [
      "3336180\n"
     ]
    }
   ],
   "source": [
    "count =0\n",
    "\n",
    "for i in range(10000000):\n",
    "    count=count+game()\n",
    "\n",
    "print(count)\n",
    "\n"
   ]
  },
  {
   "cell_type": "code",
   "execution_count": 23,
   "metadata": {},
   "outputs": [],
   "source": [
    "   "
   ]
  },
  {
   "cell_type": "code",
   "execution_count": 24,
   "metadata": {},
   "outputs": [
    {
     "data": {
      "text/plain": [
       "0"
      ]
     },
     "execution_count": 24,
     "metadata": {},
     "output_type": "execute_result"
    }
   ],
   "source": []
  }
 ],
 "metadata": {
  "kernelspec": {
   "display_name": "Python 3",
   "language": "python",
   "name": "python3"
  },
  "language_info": {
   "codemirror_mode": {
    "name": "ipython",
    "version": 3
   },
   "file_extension": ".py",
   "mimetype": "text/x-python",
   "name": "python",
   "nbconvert_exporter": "python",
   "pygments_lexer": "ipython3",
   "version": "3.10.4"
  },
  "orig_nbformat": 4
 },
 "nbformat": 4,
 "nbformat_minor": 2
}
